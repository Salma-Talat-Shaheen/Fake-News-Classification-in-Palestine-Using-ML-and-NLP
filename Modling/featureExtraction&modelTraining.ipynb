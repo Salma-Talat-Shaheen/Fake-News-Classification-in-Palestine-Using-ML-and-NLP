{
  "cells": [
    {
      "cell_type": "markdown",
      "id": "dfbf54fe",
      "metadata": {
        "id": "dfbf54fe"
      },
      "source": [
        "## **`4. ▶ Feature Extraction and Model Training`**\n",
        "\n",
        "* This notebook outlines the process of feature extraction and model training for classifying palestine news  as real or fake.\n",
        "* The dataset used is 'cleaned_news_v2.csv', containing preprocessed text, platform information, numerical features, and labels (fake = 0, real = 1)."
      ]
    },
    {
      "cell_type": "markdown",
      "id": "e60852da",
      "metadata": {
        "id": "e60852da"
      },
      "source": [
        "#### **Objectives**\n",
        "\n",
        "* Extract features using TF-IDF, Word2Vec (CBOW), and Word2Vec (Skip-gram).\n",
        "  - We are trying to use AraBert, but it takes time and resources.\n",
        "\n",
        "* Train and evaluate multiple machine learning models: Logistic Regression, SVM, Naive Bayes, Random Forest, and XGBoost.\n",
        "\n",
        "* Compare model performance across different feature sets.\n",
        "\n",
        "#### **Dataset**\n",
        "* Source: cleaned_news_v2.csv\n",
        "* Columns Used:\n",
        "    * clean_text: Preprocessed news text.\n",
        "    * platform: Source platform (e.g., الجزيرة, تويتر).\n",
        "    * Numerical features: has_emoji, has_number, has_punctuation, has_hashtag, has_link, char_count, word_count.\n",
        "    * Label: Target variable (fake = 0, real = 1)."
      ]
    },
    {
      "cell_type": "markdown",
      "source": [
        "#### **Adding New Features**"
      ],
      "metadata": {
        "id": "FA164rFBSwxv"
      },
      "id": "FA164rFBSwxv"
    },
    {
      "cell_type": "code",
      "source": [
        "def count_emojis(text):\n",
        "    return sum(1 for c in text if emoji.is_emoji(c))\n",
        "\n",
        "def count_numbers(text):\n",
        "    return len(re.findall(r'\\d', text))\n",
        "\n",
        "def count_punctuation(text):\n",
        "    return len(re.findall(r'[!()-\\[\\]{};:\\'\",<>./?@#$%^&*_~`÷×؛؟،]', text))\n",
        "\n",
        "def count_hashtags(text):\n",
        "    return len(re.findall(r'#\\w+', text))\n",
        "\n",
        "def count_links(text):\n",
        "    return len(re.findall(r'https?://\\S+|www\\.\\S+', text))\n",
        "\n",
        "def count_chars(text):\n",
        "    return len(text.replace(' ', ''))\n",
        "\n",
        "def count_words(text):\n",
        "    return len(text.split())\n",
        "\n",
        "\n",
        "real_fake_news['combined_text'] = real_fake_news['title'].fillna('') + ' ' + real_fake_news['News content'].fillna('')\n",
        "\n",
        "real_fake_news['has_emoji'] = real_fake_news['combined_text'].astype(str).apply(count_emojis)\n",
        "real_fake_news['has_number'] = real_fake_news['combined_text'].astype(str).apply(count_numbers)\n",
        "real_fake_news['has_punctuation'] = real_fake_news['combined_text'].astype(str).apply(count_punctuation)\n",
        "real_fake_news['has_hashtag'] = real_fake_news['combined_text'].astype(str).apply(count_hashtags)\n",
        "real_fake_news['has_link'] = real_fake_news['combined_text'].astype(str).apply(count_links)\n",
        "real_fake_news['char_count'] = real_fake_news['combined_text'].astype(str).apply(count_chars)\n",
        "real_fake_news['word_count'] = real_fake_news['combined_text'].astype(str).apply(count_words)\n",
        "\n",
        "real_fake_news.to_csv('/content/drive/MyDrive/cleaned_news_v2.csv', index=False)"
      ],
      "metadata": {
        "id": "52-x21fNS6jN"
      },
      "id": "52-x21fNS6jN",
      "execution_count": null,
      "outputs": []
    },
    {
      "cell_type": "markdown",
      "id": "8da52594",
      "metadata": {
        "id": "8da52594"
      },
      "source": [
        "#### **Data Loading**"
      ]
    },
    {
      "cell_type": "code",
      "execution_count": null,
      "id": "8f90449d",
      "metadata": {
        "id": "8f90449d"
      },
      "outputs": [],
      "source": [
        "df = pd.read_csv('/content/drive/MyDrive/cleaned_news_v2.csv')\n",
        "\n",
        "# Convert platform names to Arabic\n",
        "convert_eng_arb = {\n",
        "    'Aljazeera': 'الجزيرة',\n",
        "    'Misbar': 'مسبار',\n",
        "    'Tibyan': 'تبيان',\n",
        "    'Twitter': 'تويتر',\n",
        "    'Reuters': 'رويترز',\n",
        "    'AFP': 'فرانس برس',\n",
        "    'Facebook': 'فيسبوك',\n",
        "    'YouTube': 'يوتيوب',\n",
        "    'Instagram': 'انستاغرام',\n",
        "    'TikTok': 'تيك توك',\n",
        "    'tayqan': 'تيقن',\n",
        "    'chayyek': 'شييك'\n",
        "}\n",
        "df['platform'] = df['platform'].map(convert_eng_arb).fillna(df['platform'])\n",
        "\n",
        "# Define numerical feature columns\n",
        "num_features_cols = ['has_emoji', 'has_number', 'has_punctuation', 'has_hashtag', 'has_link', 'char_count', 'word_count']"
      ]
    },
    {
      "cell_type": "markdown",
      "id": "b0cf71a8",
      "metadata": {
        "id": "b0cf71a8"
      },
      "source": [
        "### **2. Feature Extraction and Model Training**"
      ]
    },
    {
      "cell_type": "markdown",
      "id": "083377f7",
      "metadata": {
        "id": "083377f7"
      },
      "source": [
        "##### 2.1 TF-IDF on Text Only\n",
        "\n",
        "Extract features using TF-IDF on the clean_text column and evaluate models."
      ]
    },
    {
      "cell_type": "code",
      "execution_count": null,
      "id": "72894f94",
      "metadata": {
        "colab": {
          "base_uri": "https://localhost:8080/"
        },
        "id": "72894f94",
        "outputId": "252db45d-b4b2-4507-b1cf-e0a2b0305982"
      },
      "outputs": [
        {
          "output_type": "stream",
          "name": "stdout",
          "text": [
            "TF-IDF on Text Only Results\n",
            "\n",
            "----------- Logistic Regression -----------\n",
            "Accuracy: 0.8822\n",
            "              precision    recall  f1-score   support\n",
            "\n",
            "           0       0.81      0.73      0.77       288\n",
            "           1       0.90      0.94      0.92       782\n",
            "\n",
            "    accuracy                           0.88      1070\n",
            "   macro avg       0.86      0.83      0.85      1070\n",
            "weighted avg       0.88      0.88      0.88      1070\n",
            "\n",
            "\n",
            "----------- SVM -----------\n",
            "Accuracy: 0.9028\n",
            "              precision    recall  f1-score   support\n",
            "\n",
            "           0       0.81      0.84      0.82       288\n",
            "           1       0.94      0.93      0.93       782\n",
            "\n",
            "    accuracy                           0.90      1070\n",
            "   macro avg       0.87      0.88      0.88      1070\n",
            "weighted avg       0.90      0.90      0.90      1070\n",
            "\n",
            "\n",
            "----------- Naive Bayes -----------\n",
            "Accuracy: 0.8729\n",
            "              precision    recall  f1-score   support\n",
            "\n",
            "           0       0.79      0.72      0.75       288\n",
            "           1       0.90      0.93      0.91       782\n",
            "\n",
            "    accuracy                           0.87      1070\n",
            "   macro avg       0.84      0.82      0.83      1070\n",
            "weighted avg       0.87      0.87      0.87      1070\n",
            "\n",
            "\n",
            "----------- Random Forest -----------\n",
            "Accuracy: 0.9112\n",
            "              precision    recall  f1-score   support\n",
            "\n",
            "           0       0.85      0.82      0.83       288\n",
            "           1       0.93      0.95      0.94       782\n",
            "\n",
            "    accuracy                           0.91      1070\n",
            "   macro avg       0.89      0.88      0.89      1070\n",
            "weighted avg       0.91      0.91      0.91      1070\n",
            "\n",
            "\n",
            "----------- XGBoost -----------\n",
            "Accuracy: 0.9206\n",
            "              precision    recall  f1-score   support\n",
            "\n",
            "           0       0.85      0.86      0.85       288\n",
            "           1       0.95      0.94      0.95       782\n",
            "\n",
            "    accuracy                           0.92      1070\n",
            "   macro avg       0.90      0.90      0.90      1070\n",
            "weighted avg       0.92      0.92      0.92      1070\n",
            "\n"
          ]
        }
      ],
      "source": [
        "texts = df['clean_text'].astype(str).values\n",
        "labels = df['Label'].map({'fake': 0, 'real': 1}).values\n",
        "\n",
        "# TF-IDF vectorization\n",
        "tfidf = TfidfVectorizer(ngram_range=(1, 2), max_features=5000)\n",
        "X = tfidf.fit_transform(texts)\n",
        "\n",
        "# Split data\n",
        "X_train, X_test, y_train, y_test = train_test_split(X, labels, test_size=0.2, random_state=42, stratify=labels)\n",
        "\n",
        "# Define models\n",
        "models = {\n",
        "    'Logistic Regression': LogisticRegression(max_iter=1000),\n",
        "    'SVM': SVC(kernel='linear', probability=True),\n",
        "    'Naive Bayes': MultinomialNB(),\n",
        "    'Random Forest': RandomForestClassifier(n_estimators=100),\n",
        "    'XGBoost': xgb.XGBClassifier(use_label_encoder=False, eval_metric='logloss')\n",
        "}\n",
        "\n",
        "# Train and evaluate\n",
        "print('TF-IDF on Text Only Results')\n",
        "for name, model in models.items():\n",
        "    print(f'\\n----------- {name} -----------')\n",
        "    model.fit(X_train, y_train)\n",
        "    y_pred = model.predict(X_test)\n",
        "    print(f'Accuracy: {accuracy_score(y_test, y_pred):.4f}')\n",
        "    print(classification_report(y_test, y_pred))"
      ]
    },
    {
      "cell_type": "markdown",
      "id": "a998fdcd",
      "metadata": {
        "id": "a998fdcd"
      },
      "source": [
        "##### 2.2 TF-IDF on Text and Platform\n",
        "\n",
        "Combine TF-IDF features with one-hot encoded platform features."
      ]
    },
    {
      "cell_type": "code",
      "execution_count": null,
      "id": "6b647f84",
      "metadata": {
        "colab": {
          "base_uri": "https://localhost:8080/"
        },
        "id": "6b647f84",
        "outputId": "a31c72d1-098c-495c-8ef9-dcbb492186c7"
      },
      "outputs": [
        {
          "output_type": "stream",
          "name": "stdout",
          "text": [
            "TF-IDF on Text and Platform Results\n",
            "\n",
            "----------- Logistic Regression -----------\n",
            "Accuracy: 0.9411\n",
            "              precision    recall  f1-score   support\n",
            "\n",
            "           0       0.86      0.95      0.90       300\n",
            "           1       0.98      0.94      0.96       770\n",
            "\n",
            "    accuracy                           0.94      1070\n",
            "   macro avg       0.92      0.94      0.93      1070\n",
            "weighted avg       0.94      0.94      0.94      1070\n",
            "\n",
            "\n",
            "----------- SVM -----------\n",
            "Accuracy: 0.9430\n",
            "              precision    recall  f1-score   support\n",
            "\n",
            "           0       0.88      0.92      0.90       300\n",
            "           1       0.97      0.95      0.96       770\n",
            "\n",
            "    accuracy                           0.94      1070\n",
            "   macro avg       0.93      0.94      0.93      1070\n",
            "weighted avg       0.94      0.94      0.94      1070\n",
            "\n",
            "\n",
            "----------- Naive Bayes -----------\n",
            "Accuracy: 0.9252\n",
            "              precision    recall  f1-score   support\n",
            "\n",
            "           0       0.82      0.94      0.88       300\n",
            "           1       0.98      0.92      0.95       770\n",
            "\n",
            "    accuracy                           0.93      1070\n",
            "   macro avg       0.90      0.93      0.91      1070\n",
            "weighted avg       0.93      0.93      0.93      1070\n",
            "\n",
            "\n",
            "----------- Random Forest -----------\n",
            "Accuracy: 0.9374\n",
            "              precision    recall  f1-score   support\n",
            "\n",
            "           0       0.88      0.90      0.89       300\n",
            "           1       0.96      0.95      0.96       770\n",
            "\n",
            "    accuracy                           0.94      1070\n",
            "   macro avg       0.92      0.93      0.92      1070\n",
            "weighted avg       0.94      0.94      0.94      1070\n",
            "\n",
            "\n",
            "----------- XGBoost -----------\n",
            "Accuracy: 0.9505\n",
            "              precision    recall  f1-score   support\n",
            "\n",
            "           0       0.90      0.93      0.91       300\n",
            "           1       0.97      0.96      0.97       770\n",
            "\n",
            "    accuracy                           0.95      1070\n",
            "   macro avg       0.93      0.94      0.94      1070\n",
            "weighted avg       0.95      0.95      0.95      1070\n",
            "\n"
          ]
        }
      ],
      "source": [
        "texts = df['clean_text'].astype(str).values\n",
        "platforms = df[['platform']].astype(str).values\n",
        "labels = df['Label'].map({'fake': 0, 'real': 1}).values\n",
        "\n",
        "# TF-IDF vectorization\n",
        "tfidf = TfidfVectorizer(ngram_range=(1, 2), max_features=5000)\n",
        "X_text = tfidf.fit_transform(texts)\n",
        "\n",
        "# One-hot encoding for platform\n",
        "encoder = OneHotEncoder(sparse_output=True)\n",
        "X_platform = encoder.fit_transform(platforms)\n",
        "\n",
        "# Combine features\n",
        "X = hstack([X_text, X_platform])\n",
        "\n",
        "# Split data\n",
        "X_train, X_test, y_train, y_test = train_test_split(X, labels, test_size=0.2, random_state=42)\n",
        "\n",
        "# Train and evaluate\n",
        "print('TF-IDF on Text and Platform Results')\n",
        "for name, model in models.items():\n",
        "    print(f'\\n----------- {name} -----------')\n",
        "    model.fit(X_train, y_train)\n",
        "    y_pred = model.predict(X_test)\n",
        "    print(f'Accuracy: {accuracy_score(y_test, y_pred):.4f}')\n",
        "    print(classification_report(y_test, y_pred))"
      ]
    },
    {
      "cell_type": "markdown",
      "id": "4799c772",
      "metadata": {
        "id": "4799c772"
      },
      "source": [
        "##### 2.3 TF-IDF on Text, Platform, and Numerical Features\n",
        "\n",
        "Incorporate numerical features with TF-IDF and platform features."
      ]
    },
    {
      "cell_type": "code",
      "execution_count": null,
      "metadata": {
        "colab": {
          "base_uri": "https://localhost:8080/"
        },
        "id": "3f9f6a5e",
        "outputId": "c9c65dfa-4839-4745-a714-9c91ff391a05"
      },
      "outputs": [
        {
          "output_type": "stream",
          "name": "stdout",
          "text": [
            "TF-IDF on Text, Platform, and Numerical Features Results\n",
            "\n",
            "----------- Logistic Regression -----------\n",
            "Accuracy: 0.9290\n",
            "              precision    recall  f1-score   support\n",
            "\n",
            "           0       0.82      0.95      0.88       300\n",
            "           1       0.98      0.92      0.95       770\n",
            "\n",
            "    accuracy                           0.93      1070\n",
            "   macro avg       0.90      0.94      0.92      1070\n",
            "weighted avg       0.94      0.93      0.93      1070\n",
            "\n",
            "\n",
            "----------- Naive Bayes -----------\n",
            "Accuracy: 0.9234\n",
            "              precision    recall  f1-score   support\n",
            "\n",
            "           0       0.83      0.91      0.87       300\n",
            "           1       0.96      0.93      0.95       770\n",
            "\n",
            "    accuracy                           0.92      1070\n",
            "   macro avg       0.90      0.92      0.91      1070\n",
            "weighted avg       0.93      0.92      0.92      1070\n",
            "\n",
            "\n",
            "----------- Random Forest -----------\n",
            "Accuracy: 0.9421\n",
            "              precision    recall  f1-score   support\n",
            "\n",
            "           0       0.89      0.91      0.90       300\n",
            "           1       0.96      0.96      0.96       770\n",
            "\n",
            "    accuracy                           0.94      1070\n",
            "   macro avg       0.93      0.93      0.93      1070\n",
            "weighted avg       0.94      0.94      0.94      1070\n",
            "\n",
            "\n",
            "----------- XGBoost -----------\n",
            "Accuracy: 0.9505\n",
            "              precision    recall  f1-score   support\n",
            "\n",
            "           0       0.90      0.92      0.91       300\n",
            "           1       0.97      0.96      0.97       770\n",
            "\n",
            "    accuracy                           0.95      1070\n",
            "   macro avg       0.94      0.94      0.94      1070\n",
            "weighted avg       0.95      0.95      0.95      1070\n",
            "\n"
          ]
        }
      ],
      "source": [
        "X_num = df[num_features_cols].fillna(0).values\n",
        "X_num_sparse = csr_matrix(X_num)\n",
        "\n",
        "# Combine features\n",
        "X = hstack([X_text, X_platform, X_num_sparse])\n",
        "\n",
        "# Split data\n",
        "X_train, X_test, y_train, y_test = train_test_split(X, labels, test_size=0.2, random_state=42)\n",
        "\n",
        "# Train and evaluate (excluding SVM) Because it takes a long time and is suitable for small data.\n",
        "models_no_svm = {k: v for k, v in models.items() if k != 'SVM'}\n",
        "print('TF-IDF on Text, Platform, and Numerical Features Results')\n",
        "for name, model in models_no_svm.items():\n",
        "    print(f'\\n----------- {name} -----------')\n",
        "    model.fit(X_train, y_train)\n",
        "    y_pred = model.predict(X_test)\n",
        "    print(f'Accuracy: {accuracy_score(y_test, y_pred):.4f}')\n",
        "    print(classification_report(y_test, y_pred))"
      ],
      "id": "3f9f6a5e"
    },
    {
      "cell_type": "markdown",
      "id": "96321651",
      "metadata": {
        "id": "96321651"
      },
      "source": [
        "##### 2.4 Word2Vec (CBOW) on Text Only\n",
        "\n",
        "Use Word2Vec CBOW to generate text embeddings"
      ]
    },
    {
      "cell_type": "code",
      "execution_count": null,
      "id": "8eb7f745",
      "metadata": {
        "colab": {
          "base_uri": "https://localhost:8080/"
        },
        "id": "8eb7f745",
        "outputId": "aba0fbb2-2a98-41d7-8fee-c555be67a870"
      },
      "outputs": [
        {
          "output_type": "stream",
          "name": "stdout",
          "text": [
            "Word2Vec (CBOW) on Text Only Results\n",
            "\n",
            "----------- Logistic Regression -----------\n",
            "Accuracy: 0.8327\n",
            "              precision    recall  f1-score   support\n",
            "\n",
            "           0       0.75      0.57      0.65       288\n",
            "           1       0.85      0.93      0.89       782\n",
            "\n",
            "    accuracy                           0.83      1070\n",
            "   macro avg       0.80      0.75      0.77      1070\n",
            "weighted avg       0.83      0.83      0.82      1070\n",
            "\n",
            "\n",
            "----------- SVM -----------\n",
            "Accuracy: 0.8439\n",
            "              precision    recall  f1-score   support\n",
            "\n",
            "           0       0.77      0.60      0.67       288\n",
            "           1       0.86      0.93      0.90       782\n",
            "\n",
            "    accuracy                           0.84      1070\n",
            "   macro avg       0.82      0.77      0.79      1070\n",
            "weighted avg       0.84      0.84      0.84      1070\n",
            "\n",
            "\n",
            "----------- Naive Bayes -----------\n",
            "Accuracy: 0.8364\n",
            "              precision    recall  f1-score   support\n",
            "\n",
            "           0       0.67      0.78      0.72       288\n",
            "           1       0.91      0.86      0.88       782\n",
            "\n",
            "    accuracy                           0.84      1070\n",
            "   macro avg       0.79      0.82      0.80      1070\n",
            "weighted avg       0.85      0.84      0.84      1070\n",
            "\n",
            "\n",
            "----------- Random Forest -----------\n",
            "Accuracy: 0.8664\n",
            "              precision    recall  f1-score   support\n",
            "\n",
            "           0       0.76      0.74      0.75       288\n",
            "           1       0.90      0.91      0.91       782\n",
            "\n",
            "    accuracy                           0.87      1070\n",
            "   macro avg       0.83      0.83      0.83      1070\n",
            "weighted avg       0.87      0.87      0.87      1070\n",
            "\n",
            "\n",
            "----------- XGBoost -----------\n",
            "Accuracy: 0.8776\n",
            "              precision    recall  f1-score   support\n",
            "\n",
            "           0       0.78      0.76      0.77       288\n",
            "           1       0.91      0.92      0.92       782\n",
            "\n",
            "    accuracy                           0.88      1070\n",
            "   macro avg       0.85      0.84      0.84      1070\n",
            "weighted avg       0.88      0.88      0.88      1070\n",
            "\n"
          ]
        }
      ],
      "source": [
        "tokenized_texts = [word_tokenize(text) for text in texts]\n",
        "w2v_model = Word2Vec(sentences=tokenized_texts, vector_size=100, window=5, min_count=1, sg=0, workers=4, seed=42)\n",
        "\n",
        "def get_avg_vector(tokens, model, vector_size):\n",
        "    vectors = [model.wv[word] for word in tokens if word in model.wv]\n",
        "    return np.mean(vectors, axis=0) if vectors else np.zeros(vector_size)\n",
        "\n",
        "X_vectors = np.array([get_avg_vector(tokens, w2v_model, 100) for tokens in tokenized_texts])\n",
        "\n",
        "# Split data\n",
        "X_train, X_test, y_train, y_test = train_test_split(X_vectors, labels, test_size=0.2, random_state=42, stratify=labels)\n",
        "\n",
        "# Train and evaluate (use GaussianNB)\n",
        "models_w2v = models.copy()\n",
        "models_w2v['Naive Bayes'] = GaussianNB()\n",
        "print('Word2Vec (CBOW) on Text Only Results')\n",
        "for name, model in models_w2v.items():\n",
        "    print(f'\\n----------- {name} -----------')\n",
        "    model.fit(X_train, y_train)\n",
        "    y_pred = model.predict(X_test)\n",
        "    print(f'Accuracy: {accuracy_score(y_test, y_pred):.4f}')\n",
        "    print(classification_report(y_test, y_pred))"
      ]
    },
    {
      "cell_type": "markdown",
      "id": "e41c5748",
      "metadata": {
        "id": "e41c5748"
      },
      "source": [
        "##### 2.5 Word2Vec (CBOW) on Text and Platform\n",
        "\n",
        "Combine Word2Vec embeddings with platform features."
      ]
    },
    {
      "cell_type": "code",
      "execution_count": null,
      "id": "9f5db268",
      "metadata": {
        "colab": {
          "base_uri": "https://localhost:8080/"
        },
        "id": "9f5db268",
        "outputId": "adb5c01c-7447-43b5-81a6-8e3af3dc582d"
      },
      "outputs": [
        {
          "output_type": "stream",
          "name": "stdout",
          "text": [
            "Word2Vec (CBOW) on Text and Platform Results\n",
            "\n",
            "----------- Logistic Regression -----------\n",
            "Accuracy: 0.9262\n",
            "              precision    recall  f1-score   support\n",
            "\n",
            "           0       0.82      0.95      0.88       300\n",
            "           1       0.98      0.92      0.95       770\n",
            "\n",
            "    accuracy                           0.93      1070\n",
            "   macro avg       0.90      0.93      0.91      1070\n",
            "weighted avg       0.93      0.93      0.93      1070\n",
            "\n",
            "\n",
            "----------- SVM -----------\n",
            "Accuracy: 0.9234\n",
            "              precision    recall  f1-score   support\n",
            "\n",
            "           0       0.79      1.00      0.88       300\n",
            "           1       1.00      0.89      0.94       770\n",
            "\n",
            "    accuracy                           0.92      1070\n",
            "   macro avg       0.89      0.95      0.91      1070\n",
            "weighted avg       0.94      0.92      0.93      1070\n",
            "\n",
            "\n",
            "----------- Random Forest -----------\n",
            "Accuracy: 0.9224\n",
            "              precision    recall  f1-score   support\n",
            "\n",
            "           0       0.84      0.89      0.87       300\n",
            "           1       0.96      0.93      0.95       770\n",
            "\n",
            "    accuracy                           0.92      1070\n",
            "   macro avg       0.90      0.91      0.91      1070\n",
            "weighted avg       0.92      0.92      0.92      1070\n",
            "\n",
            "\n",
            "----------- XGBoost -----------\n",
            "Accuracy: 0.9262\n",
            "              precision    recall  f1-score   support\n",
            "\n",
            "           0       0.85      0.89      0.87       300\n",
            "           1       0.96      0.94      0.95       770\n",
            "\n",
            "    accuracy                           0.93      1070\n",
            "   macro avg       0.90      0.92      0.91      1070\n",
            "weighted avg       0.93      0.93      0.93      1070\n",
            "\n"
          ]
        }
      ],
      "source": [
        "X_text_vec = np.array([get_avg_vector(doc, w2v_model, 100) for doc in tokenized_texts])\n",
        "X_text_sparse = csr_matrix(X_text_vec)\n",
        "X = hstack([X_text_sparse, X_platform])\n",
        "\n",
        "# Split data\n",
        "X_train, X_test, y_train, y_test = train_test_split(X, labels, test_size=0.2, random_state=42)\n",
        "\n",
        "# Train and evaluate (exclude MultinomialNB)\n",
        "models_no_nb = {k: v for k, v in models.items() if k != 'Naive Bayes'}\n",
        "print('Word2Vec (CBOW) on Text and Platform Results')\n",
        "for name, model in models_no_nb.items():\n",
        "    print(f'\\n----------- {name} -----------')\n",
        "    model.fit(X_train, y_train)\n",
        "    y_pred = model.predict(X_test)\n",
        "    print(f'Accuracy: {accuracy_score(y_test, y_pred):.4f}')\n",
        "    print(classification_report(y_test, y_pred))"
      ]
    },
    {
      "cell_type": "markdown",
      "id": "2757ae7c",
      "metadata": {
        "id": "2757ae7c"
      },
      "source": [
        "##### 2.6 Word2Vec (CBOW) on Text, Platform, and Numerical Features\n",
        "\n",
        "Incorporate numerical features with Word2Vec and platform features."
      ]
    },
    {
      "cell_type": "code",
      "execution_count": null,
      "id": "7d59f3af",
      "metadata": {
        "colab": {
          "base_uri": "https://localhost:8080/"
        },
        "id": "7d59f3af",
        "outputId": "23d55399-7d78-413e-ce12-ad7218b79f68"
      },
      "outputs": [
        {
          "output_type": "stream",
          "name": "stdout",
          "text": [
            "Word2Vec (CBOW) on Text, Platform, and Numerical Features Results\n",
            "\n",
            "----------- Logistic Regression -----------\n",
            "Accuracy: 0.9262\n",
            "              precision    recall  f1-score   support\n",
            "\n",
            "           0       0.83      0.93      0.88       300\n",
            "           1       0.97      0.93      0.95       770\n",
            "\n",
            "    accuracy                           0.93      1070\n",
            "   macro avg       0.90      0.93      0.91      1070\n",
            "weighted avg       0.93      0.93      0.93      1070\n",
            "\n",
            "\n",
            "----------- Random Forest -----------\n",
            "Accuracy: 0.9271\n",
            "              precision    recall  f1-score   support\n",
            "\n",
            "           0       0.84      0.91      0.87       300\n",
            "           1       0.96      0.94      0.95       770\n",
            "\n",
            "    accuracy                           0.93      1070\n",
            "   macro avg       0.90      0.92      0.91      1070\n",
            "weighted avg       0.93      0.93      0.93      1070\n",
            "\n",
            "\n",
            "----------- XGBoost -----------\n",
            "Accuracy: 0.9215\n",
            "              precision    recall  f1-score   support\n",
            "\n",
            "           0       0.85      0.87      0.86       300\n",
            "           1       0.95      0.94      0.95       770\n",
            "\n",
            "    accuracy                           0.92      1070\n",
            "   macro avg       0.90      0.91      0.90      1070\n",
            "weighted avg       0.92      0.92      0.92      1070\n",
            "\n"
          ]
        }
      ],
      "source": [
        "X = hstack([X_text_sparse, X_platform, X_num_sparse])\n",
        "\n",
        "# Split data\n",
        "X_train, X_test, y_train, y_test = train_test_split(X, labels, test_size=0.2, random_state=42)\n",
        "\n",
        "models_no_nb = {k: v for k, v in models.items() if k not in ['Naive Bayes','SVM'] }\n",
        "\n",
        "\n",
        "# Train and evaluate\n",
        "print('Word2Vec (CBOW) on Text, Platform, and Numerical Features Results')\n",
        "for name, model in models_no_nb.items():\n",
        "    print(f'\\n----------- {name} -----------')\n",
        "    model.fit(X_train, y_train)\n",
        "    y_pred = model.predict(X_test)\n",
        "    print(f'Accuracy: {accuracy_score(y_test, y_pred):.4f}')\n",
        "    print(classification_report(y_test, y_pred))"
      ]
    },
    {
      "cell_type": "markdown",
      "id": "b1322034",
      "metadata": {
        "id": "b1322034"
      },
      "source": [
        "##### 2.7 Word2Vec (Skip-gram) on Text Only\n",
        "\n",
        "Use Word2Vec Skip-gram to generate text embeddings."
      ]
    },
    {
      "cell_type": "code",
      "execution_count": null,
      "id": "4bb811c6",
      "metadata": {
        "colab": {
          "base_uri": "https://localhost:8080/"
        },
        "id": "4bb811c6",
        "outputId": "f3831a02-2ea3-469b-bbe7-46f19993960e"
      },
      "outputs": [
        {
          "output_type": "stream",
          "name": "stdout",
          "text": [
            "Word2Vec (Skip-gram) on Text Only Results\n",
            "\n",
            "----------- Logistic Regression----------- \n",
            "Accuracy: 0.8523\n",
            "              precision    recall  f1-score   support\n",
            "\n",
            "           0       0.76      0.66      0.71       288\n",
            "           1       0.88      0.92      0.90       782\n",
            "\n",
            "    accuracy                           0.85      1070\n",
            "   macro avg       0.82      0.79      0.80      1070\n",
            "weighted avg       0.85      0.85      0.85      1070\n",
            "\n",
            "\n",
            "----------- SVM----------- \n",
            "Accuracy: 0.8598\n",
            "              precision    recall  f1-score   support\n",
            "\n",
            "           0       0.77      0.68      0.72       288\n",
            "           1       0.89      0.93      0.91       782\n",
            "\n",
            "    accuracy                           0.86      1070\n",
            "   macro avg       0.83      0.80      0.81      1070\n",
            "weighted avg       0.86      0.86      0.86      1070\n",
            "\n",
            "\n",
            "----------- Naive Bayes----------- \n",
            "Accuracy: 0.8551\n",
            "              precision    recall  f1-score   support\n",
            "\n",
            "           0       0.70      0.81      0.75       288\n",
            "           1       0.93      0.87      0.90       782\n",
            "\n",
            "    accuracy                           0.86      1070\n",
            "   macro avg       0.81      0.84      0.82      1070\n",
            "weighted avg       0.86      0.86      0.86      1070\n",
            "\n",
            "\n",
            "----------- Random Forest----------- \n",
            "Accuracy: 0.8794\n",
            "              precision    recall  f1-score   support\n",
            "\n",
            "           0       0.79      0.75      0.77       288\n",
            "           1       0.91      0.93      0.92       782\n",
            "\n",
            "    accuracy                           0.88      1070\n",
            "   macro avg       0.85      0.84      0.84      1070\n",
            "weighted avg       0.88      0.88      0.88      1070\n",
            "\n",
            "\n",
            "----------- XGBoost----------- \n",
            "Accuracy: 0.8916\n",
            "              precision    recall  f1-score   support\n",
            "\n",
            "           0       0.80      0.80      0.80       288\n",
            "           1       0.92      0.93      0.93       782\n",
            "\n",
            "    accuracy                           0.89      1070\n",
            "   macro avg       0.86      0.86      0.86      1070\n",
            "weighted avg       0.89      0.89      0.89      1070\n",
            "\n"
          ]
        }
      ],
      "source": [
        "# Train Word2Vec Skip-gram model (sg=1 for Skip-gram)\n",
        "w2v_skipgram_model = Word2Vec(sentences=tokenized_texts, vector_size=100, window=5, min_count=1, sg=1, workers=4, seed=42)\n",
        "\n",
        "# Use same function to compute average vector\n",
        "X_vectors = np.array([get_avg_vector(tokens, w2v_skipgram_model, 100) for tokens in tokenized_texts])\n",
        "\n",
        "# Split data\n",
        "X_train, X_test, y_train, y_test = train_test_split(X_vectors, labels, test_size=0.2, random_state=42, stratify=labels)\n",
        "\n",
        "models_no_nb = {k: v for k, v in models.items() if k not in ['Naive Bayes','SVM'] }\n",
        "# Train and evaluate (use GaussianNB for continuous features)\n",
        "print('Word2Vec (Skip-gram) on Text Only Results')\n",
        "for name, model in models_w2v.items():\n",
        "    print(f'\\n----------- {name}----------- ')\n",
        "    model.fit(X_train, y_train)\n",
        "    y_pred = model.predict(X_test)\n",
        "    print(f'Accuracy: {accuracy_score(y_test, y_pred):.4f}')\n",
        "    print(classification_report(y_test, y_pred))"
      ]
    },
    {
      "cell_type": "markdown",
      "id": "dc2b6650",
      "metadata": {
        "id": "dc2b6650"
      },
      "source": [
        "##### 2.8 Word2Vec (Skip-gram) on Text and Platform\n",
        "\n",
        "Combine Word2Vec Skip-gram embeddings with platform features."
      ]
    },
    {
      "cell_type": "code",
      "execution_count": null,
      "id": "e342f68a",
      "metadata": {
        "colab": {
          "base_uri": "https://localhost:8080/"
        },
        "id": "e342f68a",
        "outputId": "eebc476b-ebc5-42fb-f7fb-ab7ce2d86570"
      },
      "outputs": [
        {
          "output_type": "stream",
          "name": "stdout",
          "text": [
            "Word2Vec (Skip-gram) on Text and Platform Results\n",
            "\n",
            "----------- Logistic Regression -----------\n",
            "Accuracy: 0.9299\n",
            "              precision    recall  f1-score   support\n",
            "\n",
            "           0       0.83      0.94      0.88       300\n",
            "           1       0.98      0.92      0.95       770\n",
            "\n",
            "    accuracy                           0.93      1070\n",
            "   macro avg       0.90      0.93      0.92      1070\n",
            "weighted avg       0.94      0.93      0.93      1070\n",
            "\n",
            "\n",
            "----------- Random Forest -----------\n",
            "Accuracy: 0.9271\n",
            "              precision    recall  f1-score   support\n",
            "\n",
            "           0       0.84      0.91      0.88       300\n",
            "           1       0.96      0.93      0.95       770\n",
            "\n",
            "    accuracy                           0.93      1070\n",
            "   macro avg       0.90      0.92      0.91      1070\n",
            "weighted avg       0.93      0.93      0.93      1070\n",
            "\n",
            "\n",
            "----------- XGBoost -----------\n",
            "Accuracy: 0.9262\n",
            "              precision    recall  f1-score   support\n",
            "\n",
            "           0       0.86      0.89      0.87       300\n",
            "           1       0.96      0.94      0.95       770\n",
            "\n",
            "    accuracy                           0.93      1070\n",
            "   macro avg       0.91      0.91      0.91      1070\n",
            "weighted avg       0.93      0.93      0.93      1070\n",
            "\n"
          ]
        }
      ],
      "source": [
        "X_text_vec = np.array([get_avg_vector(doc, w2v_skipgram_model, 100) for doc in tokenized_texts])\n",
        "X_text_sparse = csr_matrix(X_text_vec)\n",
        "X = hstack([X_text_sparse, X_platform])\n",
        "\n",
        "# Split data\n",
        "X_train, X_test, y_train, y_test = train_test_split(X, labels, test_size=0.2, random_state=42)\n",
        "\n",
        "models_no_nb = {k: v for k, v in models.items() if k not in ['Naive Bayes','SVM'] }\n",
        "\n",
        "# Train and evaluate (exclude MultinomialNB)\n",
        "print('Word2Vec (Skip-gram) on Text and Platform Results')\n",
        "for name, model in models_no_nb.items():\n",
        "    print(f'\\n----------- {name} -----------')\n",
        "    model.fit(X_train, y_train)\n",
        "    y_pred = model.predict(X_test)\n",
        "    print(f'Accuracy: {accuracy_score(y_test, y_pred):.4f}')\n",
        "    print(classification_report(y_test, y_pred))"
      ]
    },
    {
      "cell_type": "markdown",
      "id": "757d75d4",
      "metadata": {
        "id": "757d75d4"
      },
      "source": [
        "##### 2.9 Word2Vec (Skip-gram) on Text, Platform, and Numerical Features\n",
        "\n",
        "Incorporate numerical features with Word2Vec Skip-gram and platform features."
      ]
    },
    {
      "cell_type": "code",
      "execution_count": null,
      "id": "7efe57a4",
      "metadata": {
        "colab": {
          "base_uri": "https://localhost:8080/"
        },
        "id": "7efe57a4",
        "outputId": "72282548-8155-4dd6-ea72-0ef07e7759d0"
      },
      "outputs": [
        {
          "output_type": "stream",
          "name": "stdout",
          "text": [
            "Word2Vec (Skip-gram) on Text, Platform, and Numerical Features Results\n",
            "\n",
            "----------- Logistic Regression -----------\n",
            "Accuracy: 0.9318\n",
            "              precision    recall  f1-score   support\n",
            "\n",
            "           0       0.83      0.95      0.89       300\n",
            "           1       0.98      0.92      0.95       770\n",
            "\n",
            "    accuracy                           0.93      1070\n",
            "   macro avg       0.91      0.94      0.92      1070\n",
            "weighted avg       0.94      0.93      0.93      1070\n",
            "\n",
            "\n",
            "----------- Random Forest -----------\n",
            "Accuracy: 0.9308\n",
            "              precision    recall  f1-score   support\n",
            "\n",
            "           0       0.85      0.92      0.88       300\n",
            "           1       0.97      0.94      0.95       770\n",
            "\n",
            "    accuracy                           0.93      1070\n",
            "   macro avg       0.91      0.93      0.92      1070\n",
            "weighted avg       0.93      0.93      0.93      1070\n",
            "\n",
            "\n",
            "----------- XGBoost -----------\n",
            "Accuracy: 0.9336\n",
            "              precision    recall  f1-score   support\n",
            "\n",
            "           0       0.86      0.91      0.89       300\n",
            "           1       0.97      0.94      0.95       770\n",
            "\n",
            "    accuracy                           0.93      1070\n",
            "   macro avg       0.91      0.93      0.92      1070\n",
            "weighted avg       0.94      0.93      0.93      1070\n",
            "\n"
          ]
        }
      ],
      "source": [
        "X = hstack([X_text_sparse, X_platform, X_num_sparse])\n",
        "\n",
        "# Split data\n",
        "X_train, X_test, y_train, y_test = train_test_split(X, labels, test_size=0.2, random_state=42)\n",
        "\n",
        "models_no_nb = {k: v for k, v in models.items() if k not in ['Naive Bayes','SVM'] }\n",
        "# Train and evaluate\n",
        "print('Word2Vec (Skip-gram) on Text, Platform, and Numerical Features Results')\n",
        "for name, model in models_no_nb.items():\n",
        "    print(f'\\n----------- {name} -----------')\n",
        "    model.fit(X_train, y_train)\n",
        "    y_pred = model.predict(X_test)\n",
        "    print(f'Accuracy: {accuracy_score(y_test, y_pred):.4f}')\n",
        "    print(classification_report(y_test, y_pred))"
      ]
    },
    {
      "cell_type": "markdown",
      "source": [
        "##### 2.10 AraBERT with Text, Platform, and Numerical Features\n",
        "\n",
        "Use AraBERT embeddings for text, combined with platform and numerical features."
      ],
      "metadata": {
        "id": "YSYjPomCWSWs"
      },
      "id": "YSYjPomCWSWs"
    },
    {
      "cell_type": "code",
      "source": [
        "tokenizer = AutoTokenizer.from_pretrained(\"aubmindlab/bert-base-arabertv2\")\n",
        "model = AutoModel.from_pretrained(\"aubmindlab/bert-base-arabertv2\")\n",
        "\n",
        "def get_bert_embedding(text):\n",
        "    tokens = tokenizer(text, return_tensors='pt', truncation=True, padding=True)\n",
        "    with torch.no_grad():\n",
        "        outputs = model(**tokens)\n",
        "    return outputs.last_hidden_state[:, 0, :].squeeze().numpy()\n",
        "\n",
        "\n",
        "# Map Arabic platform names\n",
        "df['platform'] = df['platform'].map(convert_eng_arb).fillna(df['platform'])\n",
        "\n",
        "# Extract text, platform, and labels\n",
        "texts = df['clean_text'].astype(str).tolist()\n",
        "platforms = df[['platform']].astype(str).values\n",
        "labels = df['Label'].map({'fake': 0, 'real': 1}).values\n",
        "\n",
        "# Get BERT embeddings for all texts\n",
        "X_text = np.array([get_bert_embedding(text) for text in texts])\n",
        "\n",
        "# One-Hot Encoding for platform\n",
        "encoder = OneHotEncoder(handle_unknown='ignore')\n",
        "X_platform = encoder.fit_transform(platforms).toarray()\n",
        "\n",
        "# Select numerical features\n",
        "num_features_cols = ['has_emoji', 'has_number', 'has_punctuation', 'has_hashtag',\n",
        "                     'has_link', 'char_count', 'word_count']\n",
        "X_num = df[num_features_cols].fillna(0).values\n",
        "\n",
        "# Combine all features (BERT + platform + numerical)\n",
        "X = np.hstack([X_text, X_platform, X_num])\n",
        "\n",
        "# Split data into training and test sets\n",
        "X_train, X_test, y_train, y_test = train_test_split(\n",
        "    X, labels, test_size=0.2, random_state=42\n",
        ")\n",
        "\n",
        "\n",
        "# Define classification models\n",
        "models = {\n",
        "    \"Logistic Regression\": LogisticRegression(max_iter=1000),\n",
        "    \"Random Forest\": RandomForestClassifier(n_estimators=100),\n",
        "    \"XGBoost\": xgb.XGBClassifier(use_label_encoder=False, eval_metric='logloss')\n",
        "}\n",
        "\n",
        "# Train and evaluate each model\n",
        "for name, model in models.items():\n",
        "    print(f\"\\n------------- {name} -------------\")\n",
        "    model.fit(X_train, y_train)\n",
        "    y_pred = model.predict(X_test)\n",
        "    print(f\"Accuracy: {accuracy_score(y_test, y_pred):.4f}\")\n",
        "    print(classification_report(y_test, y_pred))"
      ],
      "metadata": {
        "id": "7a4xw17EWd6l"
      },
      "id": "7a4xw17EWd6l",
      "execution_count": null,
      "outputs": []
    },
    {
      "cell_type": "markdown",
      "source": [
        "#### its take more than 1 Hour so i save a screenshot of result"
      ],
      "metadata": {
        "id": "82ywWZpeW1e1"
      },
      "id": "82ywWZpeW1e1"
    },
    {
      "cell_type": "markdown",
      "source": [
        "![Screenshot 2025-07-14 172214.png](data:image/png;base64,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)"
      ],
      "metadata": {
        "id": "hcSS1xJxWoSe"
      },
      "id": "hcSS1xJxWoSe"
    },
    {
      "cell_type": "markdown",
      "id": "533d66c0",
      "metadata": {
        "id": "533d66c0"
      },
      "source": [
        "## **`5. ▶ Results Summary`**\n",
        "### Performance Comparison Table\n",
        "| Feature Set                              | Best Model              | Accuracy | F1-Score (Fake) | F1-Score (Real) |\n",
        "|------------------------------------------|--------------------|----------|-----------------|-----------------|\n",
        "| TF-IDF (Text Only)                      | XGBoost            | 92.06%   | 0.85            | 0.95            |\n",
        "| TF-IDF (Text + Platform)                | XGBoost            | 95.05%   | 0.91            | 0.97            |\n",
        "| TF-IDF (Text + Platform + Numerical)    | XGBoost            | 95.05%   | 0.91            | 0.97            |\n",
        "| Word2Vec CBOW (Text Only)               | XGBoost            | 87.76%   | 0.77            | 0.92            |\n",
        "| Word2Vec CBOW (Text + Platform)               | XGBoost, Logistic Regression            | 92.62%   | 0.88            | 0.95            |\n",
        "| Word2Vec CBOW (Text + Platform + Numerical)               | Logistic Regression            | 92.62%   | 0.88            | 0.95            |\n",
        "| Word2Vec Skip-gram (Text Only)          | XGBoost            | 89.16%    | 0.80           | 0.93           |\n",
        "| Word2Vec Skip-gram (Text + Platform)          | Logistic Regression            | 92.99%    | 0.88           | 0.95           |\n",
        "| Word2Vec Skip-gram (Text + Platform + Numerical)          | XGBoost            | 93.36%    | 0.89           | 0.95           |\n",
        "| AraBERT (Text + Platform + Numerical)          | XGBoost            | 92.80%    | 0.88           | 0.95           |"
      ]
    },
    {
      "cell_type": "markdown",
      "source": [
        "## **`6.  ▶ Try to Predict the new news`**"
      ],
      "metadata": {
        "id": "ufGMyjfDajWW"
      },
      "id": "ufGMyjfDajWW"
    },
    {
      "cell_type": "markdown",
      "source": [
        "#### **Sample 1** : The link of news  [ here ](https://www.misbar.com/factcheck/2025/05/29/%D9%81%D9%8A%D8%AF%D9%8A%D9%88-%D8%AA%D8%B2%D9%8A%D9%8A%D9%86-%D8%A7%D9%84%D9%82%D8%B5%D8%B1-%D8%A7%D9%84%D8%B1%D8%A6%D8%A7%D8%B3%D9%8A-%D9%81%D9%8A-%D8%A5%D9%86%D8%AF%D9%88%D9%86%D9%8A%D8%B3%D9%8A%D8%A7-%D8%A8%D8%B9%D9%84%D9%85-%D9%81%D9%84%D8%B3%D8%B7%D9%8A%D9%86-%D9%85%D9%88%D9%84%D9%91%D9%8E%D8%AF-%D8%A8%D8%A7%D9%84%D8%B0%D9%83%D8%A7%D8%A1-%D8%A7%D9%84%D8%A7%D8%B5%D8%B7%D9%86%D8%A7%D8%B9%D9%8A)"
      ],
      "metadata": {
        "id": "p2idEXzya2l_"
      },
      "id": "p2idEXzya2l_"
    },
    {
      "cell_type": "code",
      "source": [
        "def predict_news(text, platform, model, w2v_model, encoder, num_features_cols, convert_eng_arb):\n",
        "    # Tokenize the input text\n",
        "    tokenized_text = word_tokenize(text)\n",
        "\n",
        "    # Get Word2Vec Skip-gram embedding (average vector)\n",
        "    def get_avg_vector(tokens, model, vector_size):\n",
        "        vectors = [model.wv[word] for word in tokens if word in model.wv]\n",
        "        return np.mean(vectors, axis=0) if vectors else np.zeros(vector_size)\n",
        "\n",
        "    text_vec = get_avg_vector(tokenized_text, w2v_model, 100)\n",
        "    text_vec_sparse = csr_matrix(text_vec.reshape(1, -1))\n",
        "\n",
        "    # One-hot encode the platform\n",
        "    platform = convert_eng_arb.get(platform, platform)  # Convert platform name if needed\n",
        "    platform_vec = encoder.transform([[platform]])\n",
        "\n",
        "    # Numerical features (set to 0 for simplicity, or extract actual features if available)\n",
        "    num_features = np.zeros(len(num_features_cols))  # Placeholder: assumes zeros for numerical features\n",
        "    num_features_sparse = csr_matrix(num_features.reshape(1, -1))\n",
        "\n",
        "    # Combine features\n",
        "    features = hstack([text_vec_sparse, platform_vec, num_features_sparse])\n",
        "\n",
        "    # Predict\n",
        "    prediction = model.predict(features)\n",
        "    return 'Real' if prediction[0] == 1 else 'Fake'\n",
        "\n",
        "# Example usage\n",
        "sample_text = \"\"\"\n",
        "فيديو تزيين القصر الرئاسي في إندونيسيا بعلم فلسطين مولَّد بالذكاء الاصطناعي\n",
        "#شاهد | تزيين قصر \"إستانا نيجارا\" الرئاسي في إندونيسيا بعلم فلسطيني ضخم، في لفتة رمزية تعبّر عن دعم الشعب الإندونيسي للقضية الفلسطينية\n",
        "\"\"\"\n",
        "sample_platform = \"تويتر\"\n",
        "\n",
        "# Assuming w2v_skipgram_model, encoder, and num_features_cols are defined from training\n",
        "print(predict_news(sample_text, sample_platform, models['XGBoost'], w2v_skipgram_model, encoder, num_features_cols, convert_eng_arb))"
      ],
      "metadata": {
        "colab": {
          "base_uri": "https://localhost:8080/"
        },
        "id": "4ieZXXJcRaED",
        "outputId": "7fba7aad-5935-4da9-fe52-f8ca3dc96135"
      },
      "id": "4ieZXXJcRaED",
      "execution_count": null,
      "outputs": [
        {
          "output_type": "stream",
          "name": "stdout",
          "text": [
            "Fake\n"
          ]
        }
      ]
    },
    {
      "cell_type": "markdown",
      "source": [
        "#### **Sample Test 2** : The link of news  [ here ](https://www.misbar.com/factcheck/2025/03/30/%D8%A7%D9%84%D9%81%D9%8A%D8%AF%D9%8A%D9%88-%D9%84%D9%8A%D8%B3-%D9%84%D9%85%D8%B8%D8%A7%D9%87%D8%B1%D8%A9-%D9%85%D8%B9%D8%A7%D8%B1%D8%B6%D8%A9-%D9%84%D8%AA%D8%B5%D8%AF%D9%8A%D8%B1-%D8%A7%D9%84%D9%86%D9%81%D8%B7-%D8%A7%D9%84%D8%B9%D8%B1%D8%A7%D9%82%D9%8A-%D8%A5%D9%84%D9%89-%D8%A7%D9%84%D8%A3%D8%B1%D8%AF%D9%86-%D8%A8%D8%B9%D8%AF-%D8%A3%D8%B2%D9%85%D8%A9-%D9%85%D8%A8%D8%A7%D8%B1%D8%A7%D8%A9-%D9%81%D9%84%D8%B3%D8%B7%D9%8A%D9%86)"
      ],
      "metadata": {
        "id": "BKc1Rw82bSKA"
      },
      "id": "BKc1Rw82bSKA"
    },
    {
      "cell_type": "code",
      "source": [
        "sample_text = \"\"\"\n",
        "الفيديو  لمظاهرة معارضة لتصدير النفط العراقي إلى الأردن بعد أزمة مباراة فلسطين\n",
        "الجنوب العراقي يشتعل غضباً ويزحف على الحقول النفطية، عازماً على منع تصدير النفط إلى الأردن اللوطية .\n",
        "\"\"\"\n",
        "sample_platform = \"تويتر\"\n",
        "\n",
        "# Assuming w2v_skipgram_model, encoder, and num_features_cols are defined from training\n",
        "print(predict_news(sample_text, sample_platform, models['XGBoost'], w2v_skipgram_model, encoder, num_features_cols, convert_eng_arb))"
      ],
      "metadata": {
        "colab": {
          "base_uri": "https://localhost:8080/"
        },
        "id": "XrI1a1O_ah2W",
        "outputId": "3af6f282-38d0-4901-ad5b-e409d3ba0964"
      },
      "id": "XrI1a1O_ah2W",
      "execution_count": null,
      "outputs": [
        {
          "output_type": "stream",
          "name": "stdout",
          "text": [
            "Fake\n"
          ]
        }
      ]
    },
    {
      "cell_type": "markdown",
      "source": [
        "#### **Sample Test 3** :The link of news  [ here ](https://www.aljazeera.net/news/liveblog/2025/7/14/%D8%A7%D9%84%D8%AD%D8%B1%D8%A8-%D8%B9%D9%84%D9%89-%D8%BA%D8%B2%D8%A9-%D9%85%D8%A8%D8%A7%D8%B4%D8%B1-%D8%B9%D8%B4%D8%B1%D8%A7%D8%AA-%D8%A7%D9%84%D8%B4%D9%87%D8%AF%D8%A7%D8%A1-33)"
      ],
      "metadata": {
        "id": "zMIdGqLzcOO_"
      },
      "id": "zMIdGqLzcOO_"
    },
    {
      "cell_type": "code",
      "source": [
        "sample_text = \"\"\"\n",
        "مسؤولة إغاثة: وضع مستشفيات قطاع غزة كارثي\n",
        "المتحدثة باسم الاتحاد الدولي لجمعيات الهلال والصليب الأحمر للجزيرة:\n",
        "\n",
        "وضع مستشفيات قطاع غزة كارثي.\n",
        "نقص كبير بعدد سيارات الإسعاف العاملة في غزة.\n",
        "انعدام الوقود يعني غياب الحياة تماما بغزة.\n",
        "انعدام الوقود بمستشفيات غزة يعني انعدام فرص الحياة.\n",
        "فقدنا العديد من موظفينا بسبب القصف على غزة.\n",
        "\"\"\"\n",
        "sample_platform = \"الجزيرة\"\n",
        "\n",
        "# Assuming w2v_skipgram_model, encoder, and num_features_cols are defined from training\n",
        "print(predict_news(sample_text, sample_platform, models['XGBoost'], w2v_skipgram_model, encoder, num_features_cols, convert_eng_arb))"
      ],
      "metadata": {
        "colab": {
          "base_uri": "https://localhost:8080/"
        },
        "id": "-zIaAbfhbXV_",
        "outputId": "9e8690dc-ee7f-4f72-8a42-a983e6e1fede"
      },
      "id": "-zIaAbfhbXV_",
      "execution_count": null,
      "outputs": [
        {
          "output_type": "stream",
          "name": "stdout",
          "text": [
            "Real\n"
          ]
        }
      ]
    },
    {
      "cell_type": "markdown",
      "source": [
        "## **`7.  ▶ Conclusion`**\n",
        "\n",
        "* #### The XGBoost model with TF-IDF on text, platform, and numerical features achieved the highest accuracy (95.05%).\n",
        "* #### This combination is recommended for deployment. Future work could explore hyperparameter tuning and advanced embeddings like AraBERT with more computational resources."
      ],
      "metadata": {
        "id": "7t22TlSkZAcP"
      },
      "id": "7t22TlSkZAcP"
    },
    {
      "cell_type": "markdown",
      "source": [
        "## **`8.  ▶ Future Improvements`**\n",
        "- Experiment with deep learning models like LSTMs or Transformers.\n",
        "- Incorporate sentiment analysis as an additional feature.\n",
        "- Collect more diverse data to improve model generalization."
      ],
      "metadata": {
        "id": "OD-27m27Rtet"
      },
      "id": "OD-27m27Rtet"
    },
    {
      "cell_type": "markdown",
      "source": [
        "##### ================================*`Thank you !`*=================================\n"
      ],
      "metadata": {
        "id": "0yEoDDccAvwt"
      },
      "id": "0yEoDDccAvwt"
    }
  ],
  "metadata": {
    "kernelspec": {
      "display_name": "Python 3",
      "name": "python3"
    },
    "language_info": {
      "codemirror_mode": {
        "name": "ipython",
        "version": 3
      },
      "file_extension": ".py",
      "mimetype": "text/x-python",
      "name": "python",
      "nbconvert_exporter": "python",
      "pygments_lexer": "ipython3",
      "version": "3.9.23"
    },
    "colab": {
      "provenance": [],
      "collapsed_sections": [
        "zgRjWjY6K4dp",
        "rE80k0fFKdbo",
        "eEtRQ65eKi3c",
        "Y19idFkCZqva",
        "SG0iJrrxELtB",
        "dfbf54fe",
        "FA164rFBSwxv",
        "8da52594",
        "b0cf71a8",
        "ufGMyjfDajWW",
        "p2idEXzya2l_",
        "BKc1Rw82bSKA",
        "zMIdGqLzcOO_"
      ],
      "gpuType": "T4"
    },
    "accelerator": "GPU"
  },
  "nbformat": 4,
  "nbformat_minor": 5
}